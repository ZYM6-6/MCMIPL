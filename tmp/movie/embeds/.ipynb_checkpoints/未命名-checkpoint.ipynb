{
 "cells": [
  {
   "cell_type": "code",
   "execution_count": 1,
   "id": "dressed-marathon",
   "metadata": {},
   "outputs": [],
   "source": [
    "user_num=20892\n",
    "item_num=16482\n",
    "attr_num=1498"
   ]
  },
  {
   "cell_type": "code",
   "execution_count": 2,
   "id": "common-habitat",
   "metadata": {},
   "outputs": [],
   "source": [
    "import pickle\n",
    "import numpy as np"
   ]
  },
  {
   "cell_type": "code",
   "execution_count": 3,
   "id": "champion-accountability",
   "metadata": {},
   "outputs": [],
   "source": [
    "with open('transe.pkl','rb') as f:\n",
    "    data=pickle.load(f)"
   ]
  },
  {
   "cell_type": "code",
   "execution_count": 4,
   "id": "smaller-stanford",
   "metadata": {},
   "outputs": [
    {
     "data": {
      "text/plain": [
       "(38872, 64)"
      ]
     },
     "execution_count": 4,
     "metadata": {},
     "output_type": "execute_result"
    }
   ],
   "source": [
    "data.shape"
   ]
  },
  {
   "cell_type": "code",
   "execution_count": 5,
   "id": "light-situation",
   "metadata": {},
   "outputs": [],
   "source": [
    "d={}\n",
    "d['ui_emb']=data[:user_num+item_num]\n",
    "d['feature_emb']=data[user_num+item_num:]\n",
    "with open('transe1.pkl','wb') as f:\n",
    "    pickle.dump(d,f)"
   ]
  },
  {
   "cell_type": "code",
   "execution_count": null,
   "id": "alternative-vinyl",
   "metadata": {},
   "outputs": [],
   "source": []
  }
 ],
 "metadata": {
  "kernelspec": {
   "display_name": "Python 3",
   "language": "python",
   "name": "python3"
  },
  "language_info": {
   "codemirror_mode": {
    "name": "ipython",
    "version": 3
   },
   "file_extension": ".py",
   "mimetype": "text/x-python",
   "name": "python",
   "nbconvert_exporter": "python",
   "pygments_lexer": "ipython3",
   "version": "3.7.9"
  }
 },
 "nbformat": 4,
 "nbformat_minor": 5
}
